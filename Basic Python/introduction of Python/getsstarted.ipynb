{
 "cells": [
  {
   "cell_type": "markdown",
   "metadata": {},
   "source": [
    "### variable"
   ]
  },
  {
   "cell_type": "markdown",
   "metadata": {},
   "source": [
    "A **variable** in Python is a named storage that holds data values. It allows you to store, modify, and retrieve data during program execution."
   ]
  },
  {
   "cell_type": "code",
   "execution_count": 2,
   "metadata": {},
   "outputs": [
    {
     "name": "stdout",
     "output_type": "stream",
     "text": [
      "25\n"
     ]
    }
   ],
   "source": [
    "age = 25\n",
    "print(age)"
   ]
  },
  {
   "cell_type": "markdown",
   "metadata": {},
   "source": [
    "Imagine you're creating a system to manage user profiles. One piece of information you store is the user's age."
   ]
  },
  {
   "cell_type": "code",
   "execution_count": 3,
   "metadata": {},
   "outputs": [
    {
     "name": "stdout",
     "output_type": "stream",
     "text": [
      "User Profile:\n",
      "Name: John Doe\n",
      "Age: 25\n",
      "Location: New York\n"
     ]
    }
   ],
   "source": [
    "# User's profile data\n",
    "name = \"John Doe\"\n",
    "age = 25\n",
    "location = \"New York\"\n",
    "print(\"User Profile:\")\n",
    "print(\"Name:\", name)\n",
    "print(\"Age:\", age)\n",
    "print(\"Location:\", location)"
   ]
  },
  {
   "cell_type": "markdown",
   "metadata": {},
   "source": [
    "the variable `age` stores the user’s age (25), which could later be updated or used in age-related calculations or conditions, such as checking if the user is eligible for a specific age-restricted service."
   ]
  },
  {
   "cell_type": "code",
   "execution_count": null,
   "metadata": {},
   "outputs": [],
   "source": []
  }
 ],
 "metadata": {
  "kernelspec": {
   "display_name": "Python 3",
   "language": "python",
   "name": "python3"
  },
  "language_info": {
   "codemirror_mode": {
    "name": "ipython",
    "version": 3
   },
   "file_extension": ".py",
   "mimetype": "text/x-python",
   "name": "python",
   "nbconvert_exporter": "python",
   "pygments_lexer": "ipython3",
   "version": "3.12.5"
  }
 },
 "nbformat": 4,
 "nbformat_minor": 2
}
