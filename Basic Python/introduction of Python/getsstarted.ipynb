{
 "cells": [
  {
   "cell_type": "markdown",
   "metadata": {},
   "source": [
    "### variable"
   ]
  },
  {
   "cell_type": "markdown",
   "metadata": {},
   "source": [
    "A **variable** in Python is a named storage that holds data values. It allows you to store, modify, and retrieve data during program execution."
   ]
  },
  {
   "cell_type": "code",
   "execution_count": 2,
   "metadata": {},
   "outputs": [
    {
     "name": "stdout",
     "output_type": "stream",
     "text": [
      "25\n"
     ]
    }
   ],
   "source": [
    "age = 25\n",
    "print(age)"
   ]
  },
  {
   "cell_type": "markdown",
   "metadata": {},
   "source": [
    "Imagine you're creating a system to manage user profiles. One piece of information you store is the user's age."
   ]
  },
  {
   "cell_type": "code",
   "execution_count": 3,
   "metadata": {},
   "outputs": [
    {
     "name": "stdout",
     "output_type": "stream",
     "text": [
      "User Profile:\n",
      "Name: John Doe\n",
      "Age: 25\n",
      "Location: New York\n"
     ]
    }
   ],
   "source": [
    "# User's profile data\n",
    "name = \"John Doe\"\n",
    "age = 25\n",
    "location = \"New York\"\n",
    "print(\"User Profile:\")\n",
    "print(\"Name:\", name)\n",
    "print(\"Age:\", age)\n",
    "print(\"Location:\", location)"
   ]
  },
  {
   "cell_type": "markdown",
   "metadata": {},
   "source": [
    "the variable `age` stores the user’s age (25), which could later be updated or used in age-related calculations or conditions, such as checking if the user is eligible for a specific age-restricted service."
   ]
  },
  {
   "cell_type": "markdown",
   "metadata": {},
   "source": [
    "### 1. **What is a Variable?**\n",
    "A variable is like a container or a label that stores a value. You can give this container a name, and use it to hold data like numbers or text that you might want to use later in your program.\n",
    "\n",
    "### 2. **How to Create a Variable?**\n",
    "In Python, you create a variable by assigning a value to it using the `=` sign."
   ]
  },
  {
   "cell_type": "markdown",
   "metadata": {},
   "source": [
    "#### storing a number"
   ]
  },
  {
   "cell_type": "code",
   "execution_count": 4,
   "metadata": {},
   "outputs": [
    {
     "name": "stdout",
     "output_type": "stream",
     "text": [
      "25\n"
     ]
    }
   ],
   "source": [
    "# Storing an integer (whole number)\n",
    "age = 25\n",
    "print(age)"
   ]
  },
  {
   "cell_type": "markdown",
   "metadata": {},
   "source": [
    "- **age** is the variable.\n",
    "- `25` is the value stored in the variable.\n",
    "- `print(age)` displays the value of the variable."
   ]
  },
  {
   "cell_type": "markdown",
   "metadata": {},
   "source": [
    "#### Example 2: Storing Text (String)"
   ]
  },
  {
   "cell_type": "code",
   "execution_count": 6,
   "metadata": {},
   "outputs": [
    {
     "name": "stdout",
     "output_type": "stream",
     "text": [
      "Ruby Poddar\n"
     ]
    }
   ],
   "source": [
    "# Storing text (a string)\n",
    "name = \"Ruby Poddar\"\n",
    "print(name)"
   ]
  },
  {
   "cell_type": "markdown",
   "metadata": {},
   "source": [
    "- **name** is the variable holding the text `\"Ruby Poddar\"`.\n",
    "- `print(name)` will display \"Ruby Poddar\"."
   ]
  },
  {
   "cell_type": "markdown",
   "metadata": {},
   "source": [
    "#### Example 3: Storing a Decimal Number"
   ]
  },
  {
   "cell_type": "code",
   "execution_count": 7,
   "metadata": {},
   "outputs": [
    {
     "name": "stdout",
     "output_type": "stream",
     "text": [
      "5.7\n"
     ]
    }
   ],
   "source": [
    "# Storing a decimal number (float)\n",
    "height = 5.7\n",
    "print(height)"
   ]
  },
  {
   "cell_type": "markdown",
   "metadata": {},
   "source": [
    "- **height** is the variable that holds the decimal number `5.7`.\n",
    "\n",
    "### Basic Rule: \n",
    "In Python, **you don’t need to declare the type** of the variable (whether it's a number, text, etc.). Python automatically detects the type based on the value you assign.\n",
    "\n",
    "### Recap:\n",
    "- Variables are like containers that hold data.\n",
    "- Use `=` to assign values to a variable.\n",
    "- You can store numbers, text, or any other kind of data in variables."
   ]
  },
  {
   "cell_type": "markdown",
   "metadata": {},
   "source": [
    "### Understanding the Concept of Variables\n",
    "1. What is a variable in Python?\n",
    "2. How do you create a variable in Python?\n",
    "3. What is the purpose of using variables in programming?\n",
    "4. Can you store a value in a variable? How?\n",
    "5. What is the difference between a variable and a value?\n",
    "6. What is the syntax to assign a value to a variable?\n",
    "7. How do you display the value of a variable in Python?\n",
    "8. Can variable names contain spaces in Python?\n",
    "9. Are variable names case-sensitive in Python?\n",
    "10. Can variables store different types of data?\n",
    "11. What is the difference between a string variable and an integer variable?\n",
    "\n",
    "### Variable Naming Rules\n",
    "12. Can a variable name start with a number?\n",
    "13. Can a variable name start with an underscore?\n",
    "14. Can a variable name contain special characters like `@` or `#`?\n",
    "15. What is a valid variable name?\n",
    "16. Is `my_variable` a valid variable name?\n",
    "17. Is `1st_variable` a valid variable name?\n",
    "18. What is a good naming convention for variables?\n",
    "19. Can you change the value of a variable after creating it?\n",
    "20. What does the term \"overwriting a variable\" mean?\n",
    "\n",
    "### Types of Variables\n",
    "21. What is an integer variable?\n",
    "22. What is a float variable?\n",
    "23. What is a string variable?\n",
    "24. What is a boolean variable?\n",
    "25. Can you store text in a variable? How?\n",
    "26. Can you store numbers in a variable? How?\n",
    "27. How do you store a decimal number in a variable?\n",
    "28. How do you store a true/false value in a variable?\n",
    "\n",
    "### Checking Variable Data Types\n",
    "29. How can you check the type of a variable in Python?\n",
    "30. What does the `type()` function do in Python?\n",
    "31. How do you use the `type()` function on a variable?\n",
    "32. What does the output `<class 'int'>` mean?\n",
    "33. What does the output `<class 'str'>` mean?\n",
    "\n",
    "### Working with Variables\n",
    "34. How do you print the value of a variable in Python?\n",
    "35. How do you combine text and variables in a print statement?\n",
    "36. What happens if you try to print a variable that hasn’t been defined?\n",
    "37. Can you assign the value of one variable to another?\n",
    "38. How do you update the value of a variable?\n",
    "39. Can you assign multiple variables in one line? How?\n",
    "40. How do you assign the same value to multiple variables at once?\n",
    "41. What happens if you try to create a variable using an invalid name?\n",
    "\n",
    "### Variable Operations\n",
    "42. How can you add two variables containing numbers?\n",
    "43. Can you combine two string variables? How?\n",
    "44. How do you multiply two variables?\n",
    "45. Can you subtract one variable from another?\n",
    "46. What happens when you divide one variable by another?\n",
    "\n",
    "### Common Errors with Variables\n",
    "47. What error do you get if you use a variable without assigning it a value?\n",
    "48. What happens if you try to use a variable name that Python reserves (like `print`)?\n",
    "49. What error do you get if you use special characters in a variable name?\n",
    "50. What happens if you try to assign a number as a variable name?\n",
    "\n",
    "### Miscellaneous\n",
    "51. Can a variable store the result of a calculation?\n",
    "52. How do you swap the values of two variables?\n",
    "53. What happens if you print a variable and text in the same `print()` statement?\n",
    "54. Can you store a list of numbers in a variable?\n",
    "55. What does it mean to concatenate two string variables?\n",
    "56. Can you store the result of a function in a variable?\n",
    "57. How do you clear a variable’s value?\n",
    "58. Can you delete a variable in Python? How?\n",
    "59. How do you check if a variable has been defined?\n",
    "60. Can you use variables inside a function?"
   ]
  },
  {
   "cell_type": "markdown",
   "metadata": {},
   "source": [
    "##### 1. A variable in Python is a name that refers to a location in memory where data is stored. It acts like a container for storing information such as numbers, text, or other types of data that can be used throughout your program."
   ]
  },
  {
   "cell_type": "markdown",
   "metadata": {},
   "source": [
    "##### 2.You create a variable in Python by assigning a value to it using the = operator. The variable name is on the left, and the value is on the right."
   ]
  },
  {
   "cell_type": "code",
   "execution_count": 8,
   "metadata": {},
   "outputs": [
    {
     "name": "stdout",
     "output_type": "stream",
     "text": [
      "10\n"
     ]
    }
   ],
   "source": [
    "x = 10  # Creates a variable 'x' and assigns the value 10 to it\n",
    "print(x)"
   ]
  },
  {
   "cell_type": "markdown",
   "metadata": {},
   "source": [
    "##### 3.Variables allow you to store and reuse data in your program. Instead of writing the same value repeatedly, you store it in a variable and reference that variable whenever needed. This makes code more readable, flexible, and easier to maintain."
   ]
  },
  {
   "cell_type": "markdown",
   "metadata": {},
   "source": [
    "##### 3.Yes, you can store a value in a variable by using the `= `operator. For example:"
   ]
  },
  {
   "cell_type": "code",
   "execution_count": 9,
   "metadata": {},
   "outputs": [],
   "source": [
    "name = \"Ruby Poddar\"  # Storing the string \"Alice\" in the variable 'name'\n",
    "age = 19        # Storing the integer 25 in the variable 'age'"
   ]
  },
  {
   "cell_type": "markdown",
   "metadata": {},
   "source": [
    "##### 5.What is the difference between a variable and a value?\n",
    "- A variable is a named reference to a storage location that holds data.\n",
    "- A value is the actual data (such as a number or text) that is stored in that location."
   ]
  },
  {
   "cell_type": "code",
   "execution_count": 11,
   "metadata": {},
   "outputs": [
    {
     "name": "stdout",
     "output_type": "stream",
     "text": [
      "30\n"
     ]
    }
   ],
   "source": [
    "age = 30  # 'age' is the variable, and 30 is the value assigned to it\n",
    "print(age)"
   ]
  },
  {
   "cell_type": "code",
   "execution_count": null,
   "metadata": {},
   "outputs": [],
   "source": []
  }
 ],
 "metadata": {
  "kernelspec": {
   "display_name": "Python 3",
   "language": "python",
   "name": "python3"
  },
  "language_info": {
   "codemirror_mode": {
    "name": "ipython",
    "version": 3
   },
   "file_extension": ".py",
   "mimetype": "text/x-python",
   "name": "python",
   "nbconvert_exporter": "python",
   "pygments_lexer": "ipython3",
   "version": "3.12.5"
  }
 },
 "nbformat": 4,
 "nbformat_minor": 2
}
