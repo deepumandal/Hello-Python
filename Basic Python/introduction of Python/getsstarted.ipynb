{
 "cells": [
  {
   "cell_type": "markdown",
   "metadata": {},
   "source": [
    "### variable"
   ]
  },
  {
   "cell_type": "markdown",
   "metadata": {},
   "source": [
    "A **variable** in Python is a named storage that holds data values. It allows you to store, modify, and retrieve data during program execution."
   ]
  },
  {
   "cell_type": "code",
   "execution_count": 2,
   "metadata": {},
   "outputs": [
    {
     "name": "stdout",
     "output_type": "stream",
     "text": [
      "25\n"
     ]
    }
   ],
   "source": [
    "age = 25\n",
    "print(age)"
   ]
  },
  {
   "cell_type": "markdown",
   "metadata": {},
   "source": [
    "Imagine you're creating a system to manage user profiles. One piece of information you store is the user's age."
   ]
  },
  {
   "cell_type": "code",
   "execution_count": 3,
   "metadata": {},
   "outputs": [
    {
     "name": "stdout",
     "output_type": "stream",
     "text": [
      "User Profile:\n",
      "Name: John Doe\n",
      "Age: 25\n",
      "Location: New York\n"
     ]
    }
   ],
   "source": [
    "# User's profile data\n",
    "name = \"John Doe\"\n",
    "age = 25\n",
    "location = \"New York\"\n",
    "print(\"User Profile:\")\n",
    "print(\"Name:\", name)\n",
    "print(\"Age:\", age)\n",
    "print(\"Location:\", location)"
   ]
  },
  {
   "cell_type": "markdown",
   "metadata": {},
   "source": [
    "the variable `age` stores the user’s age (25), which could later be updated or used in age-related calculations or conditions, such as checking if the user is eligible for a specific age-restricted service."
   ]
  },
  {
   "cell_type": "markdown",
   "metadata": {},
   "source": [
    "### 1. **What is a Variable?**\n",
    "A variable is like a container or a label that stores a value. You can give this container a name, and use it to hold data like numbers or text that you might want to use later in your program.\n",
    "\n",
    "### 2. **How to Create a Variable?**\n",
    "In Python, you create a variable by assigning a value to it using the `=` sign."
   ]
  },
  {
   "cell_type": "markdown",
   "metadata": {},
   "source": [
    "#### storing a number"
   ]
  },
  {
   "cell_type": "code",
   "execution_count": 4,
   "metadata": {},
   "outputs": [
    {
     "name": "stdout",
     "output_type": "stream",
     "text": [
      "25\n"
     ]
    }
   ],
   "source": [
    "# Storing an integer (whole number)\n",
    "age = 25\n",
    "print(age)"
   ]
  },
  {
   "cell_type": "markdown",
   "metadata": {},
   "source": [
    "- **age** is the variable.\n",
    "- `25` is the value stored in the variable.\n",
    "- `print(age)` displays the value of the variable."
   ]
  },
  {
   "cell_type": "markdown",
   "metadata": {},
   "source": [
    "#### Example 2: Storing Text (String)"
   ]
  },
  {
   "cell_type": "code",
   "execution_count": 6,
   "metadata": {},
   "outputs": [
    {
     "name": "stdout",
     "output_type": "stream",
     "text": [
      "Ruby Poddar\n"
     ]
    }
   ],
   "source": [
    "# Storing text (a string)\n",
    "name = \"Ruby Poddar\"\n",
    "print(name)"
   ]
  },
  {
   "cell_type": "markdown",
   "metadata": {},
   "source": [
    "- **name** is the variable holding the text `\"Ruby Poddar\"`.\n",
    "- `print(name)` will display \"Ruby Poddar\"."
   ]
  },
  {
   "cell_type": "markdown",
   "metadata": {},
   "source": [
    "#### Example 3: Storing a Decimal Number"
   ]
  },
  {
   "cell_type": "code",
   "execution_count": 7,
   "metadata": {},
   "outputs": [
    {
     "name": "stdout",
     "output_type": "stream",
     "text": [
      "5.7\n"
     ]
    }
   ],
   "source": [
    "# Storing a decimal number (float)\n",
    "height = 5.7\n",
    "print(height)"
   ]
  },
  {
   "cell_type": "markdown",
   "metadata": {},
   "source": [
    "- **height** is the variable that holds the decimal number `5.7`.\n",
    "\n",
    "### Basic Rule: \n",
    "In Python, **you don’t need to declare the type** of the variable (whether it's a number, text, etc.). Python automatically detects the type based on the value you assign.\n",
    "\n",
    "### Recap:\n",
    "- Variables are like containers that hold data.\n",
    "- Use `=` to assign values to a variable.\n",
    "- You can store numbers, text, or any other kind of data in variables."
   ]
  }
 ],
 "metadata": {
  "kernelspec": {
   "display_name": "Python 3",
   "language": "python",
   "name": "python3"
  },
  "language_info": {
   "codemirror_mode": {
    "name": "ipython",
    "version": 3
   },
   "file_extension": ".py",
   "mimetype": "text/x-python",
   "name": "python",
   "nbconvert_exporter": "python",
   "pygments_lexer": "ipython3",
   "version": "3.12.5"
  }
 },
 "nbformat": 4,
 "nbformat_minor": 2
}
